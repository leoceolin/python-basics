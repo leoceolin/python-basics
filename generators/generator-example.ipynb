{
 "cells": [
  {
   "cell_type": "code",
   "execution_count": 1,
   "metadata": {},
   "outputs": [],
   "source": [
    "def lines_with_number_of_words(file_name, number_of_words   ):\n",
    "    with open(file_name, 'r', encoding='utf-8') as file:\n",
    "        for line in file:\n",
    "            if len(line.split()) == number_of_words:\n",
    "                yield line.strip()"
   ]
  },
  {
   "cell_type": "code",
   "execution_count": 2,
   "metadata": {},
   "outputs": [
    {
     "name": "stdout",
     "output_type": "stream",
     "text": [
      "Python is easy\n",
      "Ruby is interesting\n"
     ]
    }
   ],
   "source": [
    "file_name = 'test-file.txt'\n",
    "number_of_words = 3\n",
    "for line in lines_with_number_of_words(file_name, number_of_words):\n",
    "    print(line)"
   ]
  }
 ],
 "metadata": {
  "kernelspec": {
   "display_name": "Python 3",
   "language": "python",
   "name": "python3"
  },
  "language_info": {
   "codemirror_mode": {
    "name": "ipython",
    "version": 3
   },
   "file_extension": ".py",
   "mimetype": "text/x-python",
   "name": "python",
   "nbconvert_exporter": "python",
   "pygments_lexer": "ipython3",
   "version": "3.13.4"
  }
 },
 "nbformat": 4,
 "nbformat_minor": 2
}
