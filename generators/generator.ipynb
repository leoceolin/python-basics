{
 "cells": [
  {
   "cell_type": "markdown",
   "metadata": {},
   "source": [
    "Yield\n",
    "\n",
    "It is a keyword used to create generators. When you use it inside a function, it turns that function into a generator, which is a special type of iterator.\n",
    "\n",
    "Return: When used in a function, it ends the function and returns a value. Subsequent calls to the function start execution from the beginning again.\n",
    "\n",
    "Yield: Can be called again and will resume execution from where it was paused, allowing the generation of a sequence of values over time."
   ]
  },
  {
   "cell_type": "code",
   "execution_count": 11,
   "metadata": {},
   "outputs": [
    {
     "name": "stdout",
     "output_type": "stream",
     "text": [
      "1\n",
      "3\n",
      "5\n",
      "7\n",
      "9\n"
     ]
    }
   ],
   "source": [
    "\"\"\"\"\n",
    "This is a generator that returns the odd numbers from 1 to n\n",
    "\"\"\"\n",
    "def odd_numbers(n):\n",
    "    for i in range(1, n+1, 2):\n",
    "        yield i\n",
    "\n",
    "for number in odd_numbers(10):\n",
    "    print(number)"
   ]
  },
  {
   "cell_type": "code",
   "execution_count": 9,
   "metadata": {},
   "outputs": [
    {
     "name": "stdout",
     "output_type": "stream",
     "text": [
      "1\n",
      "3\n",
      "5\n",
      "7\n",
      "9\n"
     ]
    }
   ],
   "source": [
    "for number in odd_numbers(10):\n",
    "    print(number)"
   ]
  }
 ],
 "metadata": {
  "kernelspec": {
   "display_name": "Python 3",
   "language": "python",
   "name": "python3"
  },
  "language_info": {
   "codemirror_mode": {
    "name": "ipython",
    "version": 3
   },
   "file_extension": ".py",
   "mimetype": "text/x-python",
   "name": "python",
   "nbconvert_exporter": "python",
   "pygments_lexer": "ipython3",
   "version": "3.13.4"
  }
 },
 "nbformat": 4,
 "nbformat_minor": 2
}
