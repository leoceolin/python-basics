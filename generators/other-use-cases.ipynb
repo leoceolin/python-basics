{
 "cells": [
  {
   "cell_type": "code",
   "execution_count": 3,
   "metadata": {},
   "outputs": [
    {
     "name": "stdout",
     "output_type": "stream",
     "text": [
      "Square of 0 is 0\n",
      "Square of 1 is 1\n",
      "Square of 2 is 4\n",
      "Square of 3 is 9\n",
      "Square of 4 is 16\n",
      "Square of 5 is 25\n",
      "Square of 6 is 36\n",
      "Square of 7 is 49\n",
      "Square of 8 is 64\n",
      "Square of 9 is 81\n"
     ]
    }
   ],
   "source": [
    "# expression generator\n",
    "squares = (x ** 2 for x in range(10))\n",
    "for index, square in enumerate(squares):\n",
    "    print(f\"Square of {index} is {square}\")"
   ]
  },
  {
   "cell_type": "code",
   "execution_count": null,
   "metadata": {},
   "outputs": [
    {
     "name": "stdout",
     "output_type": "stream",
     "text": [
      "0\n",
      "1\n",
      "2\n",
      "3\n",
      "4\n",
      "5\n",
      "6\n",
      "7\n",
      "8\n",
      "9\n"
     ]
    }
   ],
   "source": [
    "# infinite iterator\n",
    "def infinite_counter(): \n",
    "    i = 0\n",
    "    while True:\n",
    "        yield i\n",
    "        i += 1\n",
    "counter = infinite_counter()\n",
    "for _ in range(10):\n",
    "    print(next(counter))"
   ]
  },
  {
   "cell_type": "code",
   "execution_count": null,
   "metadata": {},
   "outputs": [
    {
     "name": "stdout",
     "output_type": "stream",
     "text": [
      "10\n",
      "15\n",
      "30\n"
     ]
    }
   ],
   "source": [
    "# collect values using send\n",
    "def sum_generator():\n",
    "    total = 0\n",
    "    while True:\n",
    "        value = yield total # receive a value and return the total accumulated\n",
    "        if value is not None:\n",
    "            total += value\n",
    "\n",
    "sum = sum_generator()\n",
    "next(sum) # initialize the generator\n",
    "print(sum.send(10))\n",
    "print(sum.send(5))\n",
    "print(sum.send(15))"
   ]
  },
  {
   "cell_type": "code",
   "execution_count": 4,
   "metadata": {},
   "outputs": [
    {
     "name": "stdout",
     "output_type": "stream",
     "text": [
      "Value received: 55\n",
      "Invalid value!\n"
     ]
    },
    {
     "ename": "StopIteration",
     "evalue": "",
     "output_type": "error",
     "traceback": [
      "\u001b[31m---------------------------------------------------------------------------\u001b[39m",
      "\u001b[31mStopIteration\u001b[39m                             Traceback (most recent call last)",
      "\u001b[36mCell\u001b[39m\u001b[36m \u001b[39m\u001b[32mIn[4]\u001b[39m\u001b[32m, line 13\u001b[39m\n\u001b[32m     11\u001b[39m \u001b[38;5;28mnext\u001b[39m(g)\n\u001b[32m     12\u001b[39m g.send(\u001b[32m55\u001b[39m)\n\u001b[32m---> \u001b[39m\u001b[32m13\u001b[39m \u001b[43mg\u001b[49m\u001b[43m.\u001b[49m\u001b[43mthrow\u001b[49m\u001b[43m(\u001b[49m\u001b[38;5;167;43;01mValueError\u001b[39;49;00m\u001b[43m)\u001b[49m\n",
      "\u001b[31mStopIteration\u001b[39m: "
     ]
    }
   ],
   "source": [
    "# handling exceptions\n",
    "def generator_exception():\n",
    "    try:\n",
    "        while True:\n",
    "            value = yield\n",
    "            print(f\"Value received: {value}\")\n",
    "    except ValueError:\n",
    "        print(\"Invalid value!\")\n",
    "        \n",
    "g = generator_exception()\n",
    "next(g)\n",
    "g.send(55)\n",
    "g.throw(ValueError)"
   ]
  },
  {
   "cell_type": "code",
   "execution_count": 5,
   "metadata": {},
   "outputs": [
    {
     "name": "stdout",
     "output_type": "stream",
     "text": [
      "5\n",
      "7\n",
      "9\n",
      "11\n",
      "13\n"
     ]
    }
   ],
   "source": [
    "# cascading generators\n",
    "def multiply_by_two(iterable):\n",
    "    for i in iterable:\n",
    "        yield i * 2\n",
    "        \n",
    "def add_five(iterable):\n",
    "    for i in iterable:\n",
    "        yield i + 5\n",
    "        \n",
    "numbers = range(5) # 0, 1, 2, 3, 4\n",
    "result = add_five(multiply_by_two(numbers))\n",
    "for r in result:\n",
    "    print(r)"
   ]
  }
 ],
 "metadata": {
  "kernelspec": {
   "display_name": "Python 3",
   "language": "python",
   "name": "python3"
  },
  "language_info": {
   "codemirror_mode": {
    "name": "ipython",
    "version": 3
   },
   "file_extension": ".py",
   "mimetype": "text/x-python",
   "name": "python",
   "nbconvert_exporter": "python",
   "pygments_lexer": "ipython3",
   "version": "3.13.4"
  }
 },
 "nbformat": 4,
 "nbformat_minor": 2
}
