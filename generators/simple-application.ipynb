{
 "cells": [
  {
   "cell_type": "code",
   "execution_count": 1,
   "metadata": {},
   "outputs": [],
   "source": [
    "class SalesIterator:\n",
    "    def __init__(self, file_path):\n",
    "        self.arquivo = file_path\n",
    "        self.file = open(file_path, 'r', encoding='utf-8')\n",
    "        \n",
    "    def __iter__(self):\n",
    "        return self\n",
    "    \n",
    "    def __next__(self):\n",
    "        line = self.file.readline()\n",
    "        if not line:\n",
    "            self.file.close() # close the file\n",
    "            raise StopIteration\n",
    "        category, value = line.strip().split(',')\n",
    "        return category, float(value)"
   ]
  },
  {
   "cell_type": "code",
   "execution_count": 2,
   "metadata": {},
   "outputs": [],
   "source": [
    "def sum_sales_generator(file_path):\n",
    "    total_sales = 0\n",
    "    for category, value in SalesIterator(file_path):\n",
    "        total_sales += value\n",
    "        yield category, value, total_sales"
   ]
  },
  {
   "cell_type": "code",
   "execution_count": null,
   "metadata": {},
   "outputs": [
    {
     "name": "stdout",
     "output_type": "stream",
     "text": [
      "Processing sales....\n",
      "Category: Eletronics, Value $: 1000.00\n",
      "Category: Clothes, Value $: 150.00\n",
      "Category: Eletronics, Value $: 1000.00\n",
      "Category: Food, Value $: 100.00\n",
      "Category: Clothes, Value $: 200.00\n",
      "Category: Eletronics, Value $: 1000.00\n",
      "Eletronics: 3 sales \n",
      "Clothes: 2 sales \n",
      "Food: 1 sales \n",
      "Total $: 1000.00\n",
      "Total $: 1150.00\n",
      "Total $: 2150.00\n",
      "Total $: 2250.00\n",
      "Total $: 2450.00\n",
      "Total $: 3450.00\n"
     ]
    }
   ],
   "source": [
    "sales_count = {}\n",
    "file = \"sales.txt\"\n",
    "print(\"Processing sales....\")\n",
    "for category, value, total in sum_sales_generator(file):\n",
    "    print(f\"Category: {category}, Value $: {value:.2f}, Total $: {total:.2f}\")\n",
    "    \n",
    "    # count sales by category\n",
    "    if category not in sales_count:\n",
    "        sales_count[category] = 0\n",
    "    sales_count[category] += 1\n",
    "\n",
    "for category, count in sales_count.items():\n",
    "    print(f\"{category}: {count} sales \")\n"
   ]
  }
 ],
 "metadata": {
  "kernelspec": {
   "display_name": "Python 3",
   "language": "python",
   "name": "python3"
  },
  "language_info": {
   "codemirror_mode": {
    "name": "ipython",
    "version": 3
   },
   "file_extension": ".py",
   "mimetype": "text/x-python",
   "name": "python",
   "nbconvert_exporter": "python",
   "pygments_lexer": "ipython3",
   "version": "3.13.4"
  }
 },
 "nbformat": 4,
 "nbformat_minor": 2
}
