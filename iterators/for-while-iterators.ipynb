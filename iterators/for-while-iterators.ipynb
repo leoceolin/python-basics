{
 "cells": [
  {
   "cell_type": "code",
   "execution_count": null,
   "metadata": {},
   "outputs": [],
   "source": [
    "\"\"\"\"\n",
    "This is a class that returns the names that start with a given letter, it is case insensitive\n",
    "\"\"\"\n",
    "class NameWithLetter:\n",
    "    def __init__(self, names, letter):\n",
    "        self.names = names\n",
    "        self.letter = letter\n",
    "        self.index = 0\n",
    "        \n",
    "    def __iter__(self):\n",
    "        return self\n",
    "    \n",
    "    def __next__(self):\n",
    "        while self.index < len(self.names):\n",
    "            name = self.names[self.index]\n",
    "            self.index += 1\n",
    "            if name.lower().startswith(self.letter.lower()):\n",
    "                return name\n",
    "        raise StopIteration"
   ]
  },
  {
   "cell_type": "code",
   "execution_count": null,
   "metadata": {},
   "outputs": [
    {
     "name": "stdout",
     "output_type": "stream",
     "text": [
      "Bob\n",
      "Bruno\n"
     ]
    }
   ],
   "source": [
    "names = ['Alice', 'Bob', 'Ana', 'John', 'Amanda', 'Kobe']\n",
    "letter = 'b'\n",
    "iterator_names = NameWithLetter(names, letter)\n",
    "\n",
    "for name in iterator_names:\n",
    "    print(name)"
   ]
  }
 ],
 "metadata": {
  "kernelspec": {
   "display_name": "Python 3",
   "language": "python",
   "name": "python3"
  },
  "language_info": {
   "codemirror_mode": {
    "name": "ipython",
    "version": 3
   },
   "file_extension": ".py",
   "mimetype": "text/x-python",
   "name": "python",
   "nbconvert_exporter": "python",
   "pygments_lexer": "ipython3",
   "version": "3.13.4"
  }
 },
 "nbformat": 4,
 "nbformat_minor": 2
}
